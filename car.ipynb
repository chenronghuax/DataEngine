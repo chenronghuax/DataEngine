{
 "cells": [
  {
   "cell_type": "code",
   "execution_count": 4,
   "metadata": {},
   "outputs": [],
   "source": [
    "import pandas as pd\n",
    "df = pd.read_csv(\n",
    "        r'D:\\python\\training\\Data_Engine_with_Python-master\\L1\\car_data_analyze\\car_complain.csv'\n",
    "    )"
   ]
  },
  {
   "cell_type": "code",
   "execution_count": 60,
   "metadata": {},
   "outputs": [],
   "source": [
    "df1 = df.drop('problem', 1).join(df.problem.str.get_dummies(','))"
   ]
  },
  {
   "cell_type": "code",
   "execution_count": 62,
   "metadata": {},
   "outputs": [
    {
     "data": {
      "text/html": [
       "<div>\n",
       "<style scoped>\n",
       "    .dataframe tbody tr th:only-of-type {\n",
       "        vertical-align: middle;\n",
       "    }\n",
       "\n",
       "    .dataframe tbody tr th {\n",
       "        vertical-align: top;\n",
       "    }\n",
       "\n",
       "    .dataframe thead th {\n",
       "        text-align: right;\n",
       "    }\n",
       "</style>\n",
       "<table border=\"1\" class=\"dataframe\">\n",
       "  <thead>\n",
       "    <tr style=\"text-align: right;\">\n",
       "      <th></th>\n",
       "      <th>id</th>\n",
       "      <th>brand</th>\n",
       "      <th>car_model</th>\n",
       "      <th>type</th>\n",
       "      <th>desc</th>\n",
       "      <th>datetime</th>\n",
       "      <th>status</th>\n",
       "      <th>A11</th>\n",
       "      <th>A114</th>\n",
       "      <th>A12</th>\n",
       "      <th>...</th>\n",
       "      <th>N318</th>\n",
       "      <th>N319</th>\n",
       "      <th>O296</th>\n",
       "      <th>O326</th>\n",
       "      <th>O348</th>\n",
       "      <th>O354</th>\n",
       "      <th>Q322</th>\n",
       "      <th>Q323</th>\n",
       "      <th>Q349</th>\n",
       "      <th>Q350</th>\n",
       "    </tr>\n",
       "  </thead>\n",
       "  <tbody>\n",
       "    <tr>\n",
       "      <th>0</th>\n",
       "      <td>482028</td>\n",
       "      <td>一汽马自达</td>\n",
       "      <td>阿特兹</td>\n",
       "      <td>2020款 2.5L 蓝天运动版</td>\n",
       "      <td>一汽马自达阿特兹B柱异响 车内异响严重</td>\n",
       "      <td>2020-06-08</td>\n",
       "      <td>信息审核</td>\n",
       "      <td>0</td>\n",
       "      <td>0</td>\n",
       "      <td>0</td>\n",
       "      <td>...</td>\n",
       "      <td>0</td>\n",
       "      <td>0</td>\n",
       "      <td>0</td>\n",
       "      <td>0</td>\n",
       "      <td>0</td>\n",
       "      <td>0</td>\n",
       "      <td>0</td>\n",
       "      <td>0</td>\n",
       "      <td>0</td>\n",
       "      <td>0</td>\n",
       "    </tr>\n",
       "  </tbody>\n",
       "</table>\n",
       "<p>1 rows × 181 columns</p>\n",
       "</div>"
      ],
      "text/plain": [
       "       id  brand car_model              type                 desc    datetime  \\\n",
       "0  482028  一汽马自达       阿特兹  2020款 2.5L 蓝天运动版  一汽马自达阿特兹B柱异响 车内异响严重  2020-06-08   \n",
       "\n",
       "  status  A11  A114  A12  ...  N318  N319  O296  O326  O348  O354  Q322  Q323  \\\n",
       "0   信息审核    0     0    0  ...     0     0     0     0     0     0     0     0   \n",
       "\n",
       "   Q349  Q350  \n",
       "0     0     0  \n",
       "\n",
       "[1 rows x 181 columns]"
      ]
     },
     "execution_count": 62,
     "metadata": {},
     "output_type": "execute_result"
    }
   ],
   "source": [
    "df1.head(1)"
   ]
  },
  {
   "cell_type": "code",
   "execution_count": 47,
   "metadata": {},
   "outputs": [],
   "source": [
    "count_brand=(\n",
    "    df.groupby(['brand'])\n",
    "    .agg(\n",
    "        #新列名 =(原列名,函数)\n",
    "        品牌投诉总数 =('id','count')   \n",
    "    )\n",
    "    .reset_index()\n",
    "    .rename(columns={'brand':'品牌'})\n",
    "    .sort_values('品牌投诉总数',ascending = False)\n",
    ")"
   ]
  },
  {
   "cell_type": "code",
   "execution_count": 57,
   "metadata": {},
   "outputs": [
    {
     "data": {
      "text/html": [
       "<div>\n",
       "<style scoped>\n",
       "    .dataframe tbody tr th:only-of-type {\n",
       "        vertical-align: middle;\n",
       "    }\n",
       "\n",
       "    .dataframe tbody tr th {\n",
       "        vertical-align: top;\n",
       "    }\n",
       "\n",
       "    .dataframe thead th {\n",
       "        text-align: right;\n",
       "    }\n",
       "</style>\n",
       "<table border=\"1\" class=\"dataframe\">\n",
       "  <thead>\n",
       "    <tr style=\"text-align: right;\">\n",
       "      <th></th>\n",
       "      <th>品牌</th>\n",
       "      <th>品牌投诉总数</th>\n",
       "    </tr>\n",
       "  </thead>\n",
       "  <tbody>\n",
       "    <tr>\n",
       "      <th>38</th>\n",
       "      <td>吉利汽车</td>\n",
       "      <td>96</td>\n",
       "    </tr>\n",
       "  </tbody>\n",
       "</table>\n",
       "</div>"
      ],
      "text/plain": [
       "      品牌  品牌投诉总数\n",
       "38  吉利汽车      96"
      ]
     },
     "execution_count": 57,
     "metadata": {},
     "output_type": "execute_result"
    }
   ],
   "source": [
    "count_brand.head(1)"
   ]
  },
  {
   "cell_type": "code",
   "execution_count": 45,
   "metadata": {},
   "outputs": [],
   "source": [
    "count_car=(\n",
    "    df.groupby(['car_model'])\n",
    "    .agg(\n",
    "        #新列名 =(原列名,函数)\n",
    "        车型投诉总数 =('id','count')   \n",
    "    )\n",
    "    .reset_index()\n",
    "    .rename(columns={'car_model':'车型'})\n",
    "    .sort_values('车型投诉总数',ascending = False)\n",
    ")"
   ]
  },
  {
   "cell_type": "code",
   "execution_count": 58,
   "metadata": {},
   "outputs": [
    {
     "data": {
      "text/html": [
       "<div>\n",
       "<style scoped>\n",
       "    .dataframe tbody tr th:only-of-type {\n",
       "        vertical-align: middle;\n",
       "    }\n",
       "\n",
       "    .dataframe tbody tr th {\n",
       "        vertical-align: top;\n",
       "    }\n",
       "\n",
       "    .dataframe thead th {\n",
       "        text-align: right;\n",
       "    }\n",
       "</style>\n",
       "<table border=\"1\" class=\"dataframe\">\n",
       "  <thead>\n",
       "    <tr style=\"text-align: right;\">\n",
       "      <th></th>\n",
       "      <th>车型</th>\n",
       "      <th>车型投诉总数</th>\n",
       "    </tr>\n",
       "  </thead>\n",
       "  <tbody>\n",
       "    <tr>\n",
       "      <th>189</th>\n",
       "      <td>阿特兹</td>\n",
       "      <td>75</td>\n",
       "    </tr>\n",
       "  </tbody>\n",
       "</table>\n",
       "</div>"
      ],
      "text/plain": [
       "      车型  车型投诉总数\n",
       "189  阿特兹      75"
      ]
     },
     "execution_count": 58,
     "metadata": {},
     "output_type": "execute_result"
    }
   ],
   "source": [
    "count_car.head(1)"
   ]
  },
  {
   "cell_type": "code",
   "execution_count": 49,
   "metadata": {},
   "outputs": [],
   "source": [
    "count_brand_car=(\n",
    "    df.groupby(['brand','car_model'])\n",
    "    .agg(\n",
    "        #新列名 =(原列名,函数)\n",
    "        投诉总数 =('id','count')   \n",
    "    )\n",
    "    .reset_index()\n",
    "    .rename(columns={'brand':'品牌','car_model':'车型'})\n",
    ")"
   ]
  },
  {
   "cell_type": "code",
   "execution_count": 55,
   "metadata": {},
   "outputs": [],
   "source": [
    "count_brand_car_maen =(\n",
    "    count_brand_car.groupby(['品牌'])\n",
    "    .agg(\n",
    "        #新列名 =(原列名,函数)\n",
    "        车型平均 =('投诉总数','mean')   \n",
    "    )\n",
    "    .reset_index() \n",
    "    .sort_values('车型平均',ascending = False)\n",
    ")\n"
   ]
  },
  {
   "cell_type": "code",
   "execution_count": 59,
   "metadata": {},
   "outputs": [
    {
     "data": {
      "text/html": [
       "<div>\n",
       "<style scoped>\n",
       "    .dataframe tbody tr th:only-of-type {\n",
       "        vertical-align: middle;\n",
       "    }\n",
       "\n",
       "    .dataframe tbody tr th {\n",
       "        vertical-align: top;\n",
       "    }\n",
       "\n",
       "    .dataframe thead th {\n",
       "        text-align: right;\n",
       "    }\n",
       "</style>\n",
       "<table border=\"1\" class=\"dataframe\">\n",
       "  <thead>\n",
       "    <tr style=\"text-align: right;\">\n",
       "      <th></th>\n",
       "      <th>品牌</th>\n",
       "      <th>车型平均</th>\n",
       "    </tr>\n",
       "  </thead>\n",
       "  <tbody>\n",
       "    <tr>\n",
       "      <th>8</th>\n",
       "      <td>一汽马自达</td>\n",
       "      <td>47.5</td>\n",
       "    </tr>\n",
       "  </tbody>\n",
       "</table>\n",
       "</div>"
      ],
      "text/plain": [
       "      品牌  车型平均\n",
       "8  一汽马自达  47.5"
      ]
     },
     "execution_count": 59,
     "metadata": {},
     "output_type": "execute_result"
    }
   ],
   "source": [
    "count_brand_car_maen.head(1)"
   ]
  }
 ],
 "metadata": {
  "kernelspec": {
   "display_name": "Python 3",
   "language": "python",
   "name": "python3"
  },
  "language_info": {
   "codemirror_mode": {
    "name": "ipython",
    "version": 3
   },
   "file_extension": ".py",
   "mimetype": "text/x-python",
   "name": "python",
   "nbconvert_exporter": "python",
   "pygments_lexer": "ipython3",
   "version": "3.7.6"
  }
 },
 "nbformat": 4,
 "nbformat_minor": 2
}
